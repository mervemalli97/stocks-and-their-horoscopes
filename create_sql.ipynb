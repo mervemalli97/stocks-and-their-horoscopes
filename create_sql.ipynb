{
 "cells": [
  {
   "cell_type": "code",
   "execution_count": 1,
   "id": "e9dc2b52",
   "metadata": {},
   "outputs": [],
   "source": [
    "import pandas as pd\n",
    "import sqlite3\n",
    "import os.path\n",
    "from pandas import Series, DataFrame"
   ]
  },
  {
   "cell_type": "code",
   "execution_count": 2,
   "id": "ff65b191",
   "metadata": {},
   "outputs": [
    {
     "name": "stderr",
     "output_type": "stream",
     "text": [
      "C:\\Users\\m1273747\\AppData\\Local\\Temp\\ipykernel_5128\\2397405979.py:5: DtypeWarning: Columns (1,2,3,4,5,6) have mixed types. Specify dtype option on import or set low_memory=False.\n",
      "  stocks_df = pd.read_csv('historical_stock_prices.csv',\n"
     ]
    }
   ],
   "source": [
    "horoscopes_df = pd.read_csv('horoscopes_SA.csv', \n",
    "                         sep=';',\n",
    "                         on_bad_lines='skip',\n",
    "                         names=[\"ID\", \"ROBERTA\", \"DATE\", \"SIGN\", \"VADERS\"])\n",
    "stocks_df = pd.read_csv('historical_stock_prices.csv', \n",
    "                         sep=',',\n",
    "                         on_bad_lines='skip',\n",
    "                         names=[\"TICKER\", \"OPEN\", \"CLOSE\", \"ADJ_CLOSE\", \"LOW\", \"HIGH\", \"VOLUME\", \"DATE\"])"
   ]
  },
  {
   "cell_type": "code",
   "execution_count": 5,
   "id": "c61a0b3a",
   "metadata": {
    "scrolled": true
   },
   "outputs": [],
   "source": [
    "BASE_DIR = os.path.dirname(os.path.abspath('horostocks.db'))\n",
    "db_path = os.path.join(BASE_DIR, 'horostocks.db')\n",
    "cnn = sqlite3.connect(db_path)"
   ]
  },
  {
   "cell_type": "code",
   "execution_count": 7,
   "id": "207bd945",
   "metadata": {},
   "outputs": [
    {
     "data": {
      "text/plain": [
       "12947"
      ]
     },
     "execution_count": 7,
     "metadata": {},
     "output_type": "execute_result"
    }
   ],
   "source": [
    "horoscopes_df.to_sql('horoscopes', cnn, if_exists='replace')"
   ]
  },
  {
   "cell_type": "code",
   "execution_count": 8,
   "id": "ac5bfbaf",
   "metadata": {},
   "outputs": [
    {
     "data": {
      "text/plain": [
       "20973890"
      ]
     },
     "execution_count": 8,
     "metadata": {},
     "output_type": "execute_result"
    }
   ],
   "source": [
    "stocks_df.to_sql('stocks', cnn, if_exists='replace')"
   ]
  },
  {
   "cell_type": "code",
   "execution_count": 9,
   "id": "d4e8023e",
   "metadata": {},
   "outputs": [],
   "source": [
    "cnn.close()"
   ]
  },
  {
   "cell_type": "code",
   "execution_count": 10,
   "id": "7b5ce8bb",
   "metadata": {},
   "outputs": [],
   "source": [
    "%load_ext sql"
   ]
  },
  {
   "cell_type": "code",
   "execution_count": 11,
   "id": "266bdb4b",
   "metadata": {},
   "outputs": [],
   "source": [
    "%sql sqlite:///horostocks.db "
   ]
  },
  {
   "cell_type": "code",
   "execution_count": 12,
   "id": "3a161b66",
   "metadata": {},
   "outputs": [
    {
     "name": "stdout",
     "output_type": "stream",
     "text": [
      " * sqlite:///horostocks.db\n",
      "Done.\n"
     ]
    },
    {
     "data": {
      "text/plain": [
       "[]"
      ]
     },
     "execution_count": 12,
     "metadata": {},
     "output_type": "execute_result"
    }
   ],
   "source": [
    "%%sql\n",
    "\n",
    "CREATE TABLE ticker AS\n",
    "SELECT \n",
    "    TICKER,\n",
    "    MIN(DATE) AS BIRTHDATE\n",
    "FROM \n",
    "    stocks\n",
    "GROUP BY \n",
    "    TICKER;"
   ]
  },
  {
   "cell_type": "code",
   "execution_count": 16,
   "id": "74cd1801",
   "metadata": {},
   "outputs": [
    {
     "ename": "SyntaxError",
     "evalue": "invalid syntax (1950709378.py, line 1)",
     "output_type": "error",
     "traceback": [
      "\u001b[1;36m  Input \u001b[1;32mIn [16]\u001b[1;36m\u001b[0m\n\u001b[1;33m    SELECT * FROM ticker LIMIT 10;\u001b[0m\n\u001b[1;37m                  ^\u001b[0m\n\u001b[1;31mSyntaxError\u001b[0m\u001b[1;31m:\u001b[0m invalid syntax\n"
     ]
    }
   ],
   "source": [
    "SELECT * FROM ticker LIMIT 10;"
   ]
  },
  {
   "cell_type": "code",
   "execution_count": 13,
   "id": "09811b99",
   "metadata": {},
   "outputs": [
    {
     "name": "stdout",
     "output_type": "stream",
     "text": [
      " * sqlite:///goodreads.db\n",
      "Done.\n",
      "155247 rows affected.\n"
     ]
    },
    {
     "data": {
      "text/plain": [
       "[]"
      ]
     },
     "execution_count": 13,
     "metadata": {},
     "output_type": "execute_result"
    }
   ],
   "source": [
    "%%sql\n",
    "\n",
    "ALTER TABLE reviews ADD COLUMN BOOK_INDEX INTEGER;\n",
    "\n",
    "UPDATE reviews \n",
    "SET book_index = (\n",
    "    SELECT \"index\" FROM books WHERE books.NAME = reviews.BOOK_NAME\n",
    ");\n",
    "\n",
    "ALTER TABLE reviews DROP COLUMN BOOK_NAME;"
   ]
  },
  {
   "cell_type": "code",
   "execution_count": 20,
   "id": "7b63b609",
   "metadata": {},
   "outputs": [
    {
     "name": "stdout",
     "output_type": "stream",
     "text": [
      " * sqlite:///horostocks.db\n",
      "Done.\n"
     ]
    },
    {
     "data": {
      "text/html": [
       "<table>\n",
       "    <thead>\n",
       "        <tr>\n",
       "            <th>TICKER</th>\n",
       "            <th>BIRTHDATE</th>\n",
       "        </tr>\n",
       "    </thead>\n",
       "    <tbody>\n",
       "        <tr>\n",
       "            <td>A</td>\n",
       "            <td>1999-11-18</td>\n",
       "        </tr>\n",
       "        <tr>\n",
       "            <td>AA</td>\n",
       "            <td>1970-01-02</td>\n",
       "        </tr>\n",
       "        <tr>\n",
       "            <td>AABA</td>\n",
       "            <td>1996-04-12</td>\n",
       "        </tr>\n",
       "        <tr>\n",
       "            <td>AAC</td>\n",
       "            <td>2018-01-16</td>\n",
       "        </tr>\n",
       "        <tr>\n",
       "            <td>AAL</td>\n",
       "            <td>2005-09-27</td>\n",
       "        </tr>\n",
       "    </tbody>\n",
       "</table>"
      ],
      "text/plain": [
       "[('A', '1999-11-18'),\n",
       " ('AA', '1970-01-02'),\n",
       " ('AABA', '1996-04-12'),\n",
       " ('AAC', '2018-01-16'),\n",
       " ('AAL', '2005-09-27')]"
      ]
     },
     "execution_count": 20,
     "metadata": {},
     "output_type": "execute_result"
    }
   ],
   "source": [
    "%%sql\n",
    "SELECT * FROM ticker LIMIT 5;"
   ]
  },
  {
   "cell_type": "code",
   "execution_count": 17,
   "id": "47483f39",
   "metadata": {},
   "outputs": [
    {
     "name": "stdout",
     "output_type": "stream",
     "text": [
      " * sqlite:///horostocks.db\n",
      "Done.\n"
     ]
    },
    {
     "data": {
      "text/html": [
       "<table>\n",
       "    <thead>\n",
       "        <tr>\n",
       "            <th>name</th>\n",
       "        </tr>\n",
       "    </thead>\n",
       "    <tbody>\n",
       "        <tr>\n",
       "            <td>horoscopes</td>\n",
       "        </tr>\n",
       "        <tr>\n",
       "            <td>stocks</td>\n",
       "        </tr>\n",
       "        <tr>\n",
       "            <td>ticker</td>\n",
       "        </tr>\n",
       "    </tbody>\n",
       "</table>"
      ],
      "text/plain": [
       "[('horoscopes',), ('stocks',), ('ticker',)]"
      ]
     },
     "execution_count": 17,
     "metadata": {},
     "output_type": "execute_result"
    }
   ],
   "source": [
    "%%sql\n",
    "\n",
    "SELECT name FROM sqlite_schema \n",
    "WHERE type IN ('table','view') \n",
    "AND name NOT LIKE 'sqlite_%'\n",
    "ORDER BY 1;"
   ]
  },
  {
   "cell_type": "code",
   "execution_count": null,
   "id": "d601a5da",
   "metadata": {},
   "outputs": [],
   "source": []
  }
 ],
 "metadata": {
  "kernelspec": {
   "display_name": "Python 3 (ipykernel)",
   "language": "python",
   "name": "python3"
  },
  "language_info": {
   "codemirror_mode": {
    "name": "ipython",
    "version": 3
   },
   "file_extension": ".py",
   "mimetype": "text/x-python",
   "name": "python",
   "nbconvert_exporter": "python",
   "pygments_lexer": "ipython3",
   "version": "3.10.4"
  }
 },
 "nbformat": 4,
 "nbformat_minor": 5
}
