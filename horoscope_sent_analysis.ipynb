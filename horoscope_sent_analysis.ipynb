{
 "cells": [
  {
   "cell_type": "code",
   "execution_count": 18,
   "id": "e9dc2b52",
   "metadata": {},
   "outputs": [
    {
     "name": "stderr",
     "output_type": "stream",
     "text": [
      "[nltk_data] Downloading package punkt to\n",
      "[nltk_data]     C:\\Users\\m1273747\\AppData\\Roaming\\nltk_data...\n",
      "[nltk_data]   Package punkt is already up-to-date!\n"
     ]
    },
    {
     "data": {
      "text/plain": [
       "True"
      ]
     },
     "execution_count": 18,
     "metadata": {},
     "output_type": "execute_result"
    }
   ],
   "source": [
    "import re\n",
    "import requests\n",
    "import pandas as pd\n",
    "from bs4 import BeautifulSoup, SoupStrainer\n",
    "import urllib\n",
    "import os\n",
    "from argparse import Namespace\n",
    "from urllib.request import urlopen\n",
    "import time\n",
    "import matplotlib.pyplot as plt\n",
    "import seaborn as sns\n",
    "\n",
    "plt.style.use('ggplot')\n",
    "\n",
    "import nltk\n",
    "import torch\n",
    "from nltk.tokenize import sent_tokenize,word_tokenize\n",
    "nltk.download(\"punkt\")"
   ]
  },
  {
   "cell_type": "code",
   "execution_count": 19,
   "id": "142de7fa",
   "metadata": {},
   "outputs": [
    {
     "name": "stdout",
     "output_type": "stream",
     "text": [
      "(50, 3)\n",
      "                                              COMMENT        DATE   SIGN\n",
      "ID                                                                      \n",
      "0   You’re not the sort to play safe and even if y...  12-01-2013  aries\n",
      "1   There is no such thing as something for nothin...  12-02-2013  aries\n",
      "2   As the new moon falls in one of the more adven...  12-03-2013  aries\n"
     ]
    }
   ],
   "source": [
    "df = pd.read_csv('horoscopes.csv', \n",
    "                         sep='|', \n",
    "                         on_bad_lines='skip',\n",
    "                         names=[\"ID\", \"COMMENT\", \"DATE\", \"SIGN\"])\n",
    "df = df.dropna(subset=['COMMENT'])\n",
    "df = df.reset_index()\n",
    "df = df.drop(columns=['ID', 'index'])\n",
    "df.index.name = 'ID'\n",
    "df = df.head(50)\n",
    "print(df.shape)\n",
    "print(df.head(3))"
   ]
  },
  {
   "cell_type": "code",
   "execution_count": 20,
   "id": "dcd854f2",
   "metadata": {},
   "outputs": [],
   "source": [
    "from transformers import AutoTokenizer\n",
    "from transformers import AutoModelForSequenceClassification\n",
    "from scipy.special import softmax"
   ]
  },
  {
   "cell_type": "code",
   "execution_count": 21,
   "id": "fe738301",
   "metadata": {},
   "outputs": [],
   "source": [
    "from nltk.sentiment import SentimentIntensityAnalyzer\n",
    "from tqdm.notebook import tqdm\n",
    "\n",
    "sia = SentimentIntensityAnalyzer()"
   ]
  },
  {
   "cell_type": "code",
   "execution_count": 22,
   "id": "f890fb84",
   "metadata": {},
   "outputs": [],
   "source": [
    "MODEL = f\"cardiffnlp/twitter-roberta-base-sentiment\"\n",
    "tokenizer = AutoTokenizer.from_pretrained(MODEL)\n",
    "model = AutoModelForSequenceClassification.from_pretrained(MODEL)"
   ]
  },
  {
   "cell_type": "code",
   "execution_count": 23,
   "id": "86c02065",
   "metadata": {},
   "outputs": [],
   "source": [
    "def polarity_scores_roberta(text):  \n",
    "    encoded_text = tokenizer(text,return_tensors='pt')\n",
    "    output = model(**encoded_text)\n",
    "    scores = output[0][0].detach().numpy()\n",
    "    scores = softmax(scores)\n",
    "    scores_dict = {\n",
    "        'roberta' : (scores[0]*-1+scores[2])/(scores[0]+scores[1]+scores[2])\n",
    "    }\n",
    "    return scores_dict"
   ]
  },
  {
   "cell_type": "code",
   "execution_count": 24,
   "id": "917f5f88",
   "metadata": {},
   "outputs": [],
   "source": [
    "res_vaders = {} #dictionary\n",
    "res_roberta = {} #dictionary\n",
    "\n",
    "for i in df.index:\n",
    "    comment = df['COMMENT'][i]\n",
    "    myid = i\n",
    "    res_vaders[myid] = sia.polarity_scores(comment)\n",
    "    res_roberta[myid] = polarity_scores_roberta(comment)"
   ]
  },
  {
   "cell_type": "code",
   "execution_count": 25,
   "id": "43b3ee51",
   "metadata": {},
   "outputs": [
    {
     "name": "stdout",
     "output_type": "stream",
     "text": [
      "    vaders                                            COMMENT        DATE  \\\n",
      "ID                                                                          \n",
      "0   0.7102  You’re not the sort to play safe and even if y...  12-01-2013   \n",
      "1   0.3400  There is no such thing as something for nothin...  12-02-2013   \n",
      "2   0.4939  As the new moon falls in one of the more adven...  12-03-2013   \n",
      "3   0.9581  You will hear something amazing today but can ...  12-04-2013   \n",
      "4   0.8268  A friend or colleague you have not seen for a ...  12-05-2013   \n",
      "5   0.1154  You may be a nice guy by nature but most likel...  12-06-2013   \n",
      "6  -0.2500  Someone will give you a tough time this weeken...  12-07-2013   \n",
      "7   0.3071  You will be restless this coming week, without...  12-08-2013   \n",
      "8   0.9153  You may be open and honest by nature but is le...  12-09-2013   \n",
      "9  -0.4767  You must avoid wishful thinking today. Cosmic ...  12-10-2013   \n",
      "10  0.8225  If you have not made as much progress as you w...  12-11-2013   \n",
      "11  0.3269  You may think you have to tear everything down...  12-12-2013   \n",
      "12  0.7003  A decision you made a long time ago now doesn’...  12-13-2013   \n",
      "13  0.0000  If someone you have to deal with on a day-to-d...  12-14-2013   \n",
      "14 -0.7579  If you are on the move over the next few days ...  12-15-2013   \n",
      "15 -0.8464  Family and financial problems can easily be re...  12-16-2013   \n",
      "16 -0.9081  There are times when it is right to back down ...  12-17-2013   \n",
      "17  0.8163  You will get exactly what you deserve today: n...  12-18-2013   \n",
      "18  0.5927  You may have lots of big ideas in your mind bu...  12-19-2013   \n",
      "19  0.8442  A clash of opposing viewpoints is likely on th...  12-20-2013   \n",
      "20  0.7783  The Sun crosses the midheaven angle of your ch...  12-21-2013   \n",
      "21  0.9666  Go out of your way to be pleasant to everyone ...  12-22-2013   \n",
      "22  0.9307  If you are happy with the way your career is g...  12-23-2013   \n",
      "23  0.6310  Something you have been working on for a long ...  12-24-2013   \n",
      "24 -0.5423  Don’t bother trying to hide your feelings toda...  12-25-2013   \n",
      "25  0.3291  You are on the threshold of a spectacular brea...  12-26-2013   \n",
      "26  0.0772  Flattery will get you everywhere today, especi...  12-27-2013   \n",
      "27  0.7684  Patch up any partnership disputes you may be h...  12-28-2013   \n",
      "28  0.4404  A new moon in the career area of your chart me...  12-29-2013   \n",
      "29 -0.2732  No matter how many times you may have fallen s...  12-30-2013   \n",
      "30 -0.7684  Authority figures may be difficult to get alon...  12-31-2013   \n",
      "31  0.8988  If you need to ask a favor of someone in a pos...  01-01-2014   \n",
      "32  0.7351  No matter how outrageous your ideas may seem t...  01-03-2014   \n",
      "33  0.3400  If your reputation is important to you, then b...  01-04-2014   \n",
      "34  0.8207  What you gain over the coming week will more t...  01-06-2014   \n",
      "35  0.7850  Try to avoid confrontation today because almos...  01-07-2014   \n",
      "36 -0.6310  This is one of those days when you would rathe...  01-08-2014   \n",
      "37  0.8428  You will gain more by doing less today. Either...  01-09-2014   \n",
      "38  0.2023  There are so many ambitions you want to pursue...  01-10-2014   \n",
      "39  0.1779  Tell people the truth as you see it, even if i...  01-12-2014   \n",
      "40  0.4576  No matter how many times you have fallen short...  01-13-2014   \n",
      "41  0.0000  Take time out of your busy schedule to sit dow...  01-14-2014   \n",
      "42  0.0516  The full moon’s influence will pull your emoti...  01-15-2014   \n",
      "43  0.4218  Be honest with friends and colleagues today, e...  01-16-2014   \n",
      "44  0.4939  Your mind will be moving fast today and over t...  01-17-2014   \n",
      "45  0.7906  A few days from now you could find yourself mo...  01-18-2014   \n",
      "46  0.8990  Don’t rush into anything over the next few day...  01-19-2014   \n",
      "47  0.8591  Whatever you happen to be working on now you w...  01-20-2014   \n",
      "48  0.8805  Even if you prefer to walk alone it will pay y...  01-21-2014   \n",
      "49  0.4579  You may not agree with what you hear today but...  01-22-2014   \n",
      "\n",
      "     SIGN  \n",
      "ID         \n",
      "0   aries  \n",
      "1   aries  \n",
      "2   aries  \n",
      "3   aries  \n",
      "4   aries  \n",
      "5   aries  \n",
      "6   aries  \n",
      "7   aries  \n",
      "8   aries  \n",
      "9   aries  \n",
      "10  aries  \n",
      "11  aries  \n",
      "12  aries  \n",
      "13  aries  \n",
      "14  aries  \n",
      "15  aries  \n",
      "16  aries  \n",
      "17  aries  \n",
      "18  aries  \n",
      "19  aries  \n",
      "20  aries  \n",
      "21  aries  \n",
      "22  aries  \n",
      "23  aries  \n",
      "24  aries  \n",
      "25  aries  \n",
      "26  aries  \n",
      "27  aries  \n",
      "28  aries  \n",
      "29  aries  \n",
      "30  aries  \n",
      "31  aries  \n",
      "32  aries  \n",
      "33  aries  \n",
      "34  aries  \n",
      "35  aries  \n",
      "36  aries  \n",
      "37  aries  \n",
      "38  aries  \n",
      "39  aries  \n",
      "40  aries  \n",
      "41  aries  \n",
      "42  aries  \n",
      "43  aries  \n",
      "44  aries  \n",
      "45  aries  \n",
      "46  aries  \n",
      "47  aries  \n",
      "48  aries  \n",
      "49  aries  \n"
     ]
    }
   ],
   "source": [
    "vaders = pd.DataFrame(res_vaders).T\n",
    "vaders.index.name = 'ID'\n",
    "vaders = vaders.drop(columns=['neg', 'neu', 'pos'])\n",
    "vaders.rename(columns = {'compound':'vaders'}, inplace = True)\n",
    "vaders = pd.merge(vaders, df, how ='inner', on= ['ID'], validate='one_to_one')\n",
    "#vaders = vaders.drop(columns=['COMMENT'])\n",
    "vaders"
   ]
  },
  {
   "cell_type": "code",
   "execution_count": 33,
   "id": "945be33d",
   "metadata": {},
   "outputs": [
    {
     "name": "stdout",
     "output_type": "stream",
     "text": [
      "0.8591  :  Whatever you happen to be working on now you will get it done quicker and better if you get other people involved. But they must be involved as equals. It may be your vision, your baby, but don’t let your ego get in the way of success.\n",
      "0.8805  :  Even if you prefer to walk alone it will pay you to get more involved in group activities over the next few days. Friends and social contacts will bring you luck and make life more enjoyable, so get out there and have some fun.\n",
      "0.4579  :  You may not agree with what you hear today but you must let others have their say. Free speech is worth fighting for, so if someone tries to shout down a dissenting opinion make it your business to defend their right to be different.\n"
     ]
    }
   ],
   "source": [
    "print(vaders['vaders'][47], \" : \", vaders['COMMENT'][47])\n",
    "print(vaders['vaders'][48], \" : \", vaders['COMMENT'][48])\n",
    "print(vaders['vaders'][49], \" : \", vaders['COMMENT'][49])"
   ]
  },
  {
   "cell_type": "code",
   "execution_count": 34,
   "id": "4746074e",
   "metadata": {},
   "outputs": [
    {
     "name": "stdout",
     "output_type": "stream",
     "text": [
      "0.7539331475272775  :  Whatever you happen to be working on now you will get it done quicker and better if you get other people involved. But they must be involved as equals. It may be your vision, your baby, but don’t let your ego get in the way of success.\n",
      "0.9516182392835617  :  Even if you prefer to walk alone it will pay you to get more involved in group activities over the next few days. Friends and social contacts will bring you luck and make life more enjoyable, so get out there and have some fun.\n",
      "-0.08593526482582092  :  You may not agree with what you hear today but you must let others have their say. Free speech is worth fighting for, so if someone tries to shout down a dissenting opinion make it your business to defend their right to be different.\n"
     ]
    }
   ],
   "source": [
    "roberta = pd.DataFrame(res_roberta).T\n",
    "roberta.index.name = 'ID'\n",
    "roberta = pd.merge(roberta, df, how ='inner', on= ['ID'], validate='one_to_one')\n",
    "#roberta = roberta.drop(columns=['COMMENT'])\n",
    "\n",
    "print(roberta['roberta'][47], \" : \", roberta['COMMENT'][47])\n",
    "print(roberta['roberta'][48], \" : \", roberta['COMMENT'][48])\n",
    "print(roberta['roberta'][49], \" : \", roberta['COMMENT'][49])"
   ]
  },
  {
   "cell_type": "code",
   "execution_count": 14,
   "id": "8839bcd0",
   "metadata": {},
   "outputs": [
    {
     "data": {
      "text/html": [
       "<div>\n",
       "<style scoped>\n",
       "    .dataframe tbody tr th:only-of-type {\n",
       "        vertical-align: middle;\n",
       "    }\n",
       "\n",
       "    .dataframe tbody tr th {\n",
       "        vertical-align: top;\n",
       "    }\n",
       "\n",
       "    .dataframe thead th {\n",
       "        text-align: right;\n",
       "    }\n",
       "</style>\n",
       "<table border=\"1\" class=\"dataframe\">\n",
       "  <thead>\n",
       "    <tr style=\"text-align: right;\">\n",
       "      <th></th>\n",
       "      <th>roberta_com</th>\n",
       "      <th>DATE</th>\n",
       "      <th>SIGN</th>\n",
       "      <th>vaders</th>\n",
       "    </tr>\n",
       "  </thead>\n",
       "  <tbody>\n",
       "    <tr>\n",
       "      <th>0</th>\n",
       "      <td>-0.224260</td>\n",
       "      <td>12-01-2013</td>\n",
       "      <td>aries</td>\n",
       "      <td>0.7102</td>\n",
       "    </tr>\n",
       "    <tr>\n",
       "      <th>1</th>\n",
       "      <td>-0.250313</td>\n",
       "      <td>12-02-2013</td>\n",
       "      <td>aries</td>\n",
       "      <td>0.3400</td>\n",
       "    </tr>\n",
       "    <tr>\n",
       "      <th>2</th>\n",
       "      <td>0.716438</td>\n",
       "      <td>12-03-2013</td>\n",
       "      <td>aries</td>\n",
       "      <td>0.4939</td>\n",
       "    </tr>\n",
       "  </tbody>\n",
       "</table>\n",
       "</div>"
      ],
      "text/plain": [
       "   roberta_com        DATE   SIGN  vaders\n",
       "0    -0.224260  12-01-2013  aries  0.7102\n",
       "1    -0.250313  12-02-2013  aries  0.3400\n",
       "2     0.716438  12-03-2013  aries  0.4939"
      ]
     },
     "execution_count": 14,
     "metadata": {},
     "output_type": "execute_result"
    }
   ],
   "source": [
    "merged = pd.merge(roberta, vaders, how ='inner', on= ['DATE', 'SIGN'], validate='one_to_one')\n",
    "merged.head(3)"
   ]
  }
 ],
 "metadata": {
  "kernelspec": {
   "display_name": "Python 3 (ipykernel)",
   "language": "python",
   "name": "python3"
  },
  "language_info": {
   "codemirror_mode": {
    "name": "ipython",
    "version": 3
   },
   "file_extension": ".py",
   "mimetype": "text/x-python",
   "name": "python",
   "nbconvert_exporter": "python",
   "pygments_lexer": "ipython3",
   "version": "3.10.4"
  }
 },
 "nbformat": 4,
 "nbformat_minor": 5
}
